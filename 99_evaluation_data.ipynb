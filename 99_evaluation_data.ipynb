{
 "cells": [
  {
   "cell_type": "code",
   "execution_count": 1,
   "metadata": {},
   "outputs": [],
   "source": [
    "path= \"./data/training_data/raft_validation.jsonl\"\n",
    "outPath = \"./data/training_data/eval_data.jsonl\""
   ]
  },
  {
   "cell_type": "code",
   "execution_count": 9,
   "metadata": {},
   "outputs": [],
   "source": [
    "import json\n",
    "output = []\n",
    "# Open the JSONL file and read each line\n",
    "with open(path, 'r', encoding='utf-8') as file:\n",
    "    for line in file:\n",
    "        data = json.loads(line)\n",
    "        # Process each line here\n",
    "        user = data[\"messages\"][0][\"content\"]\n",
    "        query = user.split(\"</DOCUMENT>\")[-1]\n",
    "        answer = data[\"messages\"][1][\"content\"].split(\"<ANSWER>:\")[-1].strip()\n",
    "        l = data[\"messages\"][0][\"content\"].split(\"</DOCUMENT>\")[:-1]\n",
    "        context = \"\".join(l)\n",
    "\n",
    "        output.append({\n",
    "            \"query\": query,\n",
    "            \"answer\": answer,\n",
    "            \"context\": context\n",
    "        })\n",
    "\n",
    "with open(outPath, 'w', encoding='utf-8') as outfile:\n",
    "    for entry in output:\n",
    "        json.dump(entry, outfile, ensure_ascii=False)\n",
    "        outfile.write('\\n')"
   ]
  }
 ],
 "metadata": {
  "kernelspec": {
   "display_name": "py12",
   "language": "python",
   "name": "python3"
  },
  "language_info": {
   "codemirror_mode": {
    "name": "ipython",
    "version": 3
   },
   "file_extension": ".py",
   "mimetype": "text/x-python",
   "name": "python",
   "nbconvert_exporter": "python",
   "pygments_lexer": "ipython3",
   "version": "3.12.9"
  }
 },
 "nbformat": 4,
 "nbformat_minor": 2
}
