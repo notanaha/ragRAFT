{
 "cells": [
  {
   "cell_type": "code",
   "execution_count": 1,
   "id": "b77880dc",
   "metadata": {},
   "outputs": [
    {
     "data": {
      "text/plain": [
       "True"
      ]
     },
     "execution_count": 1,
     "metadata": {},
     "output_type": "execute_result"
    }
   ],
   "source": [
    "import os\n",
    "from pathlib import Path\n",
    "from dotenv import load_dotenv\n",
    "from azure.core.credentials import AzureKeyCredential\n",
    "from azure.ai.documentintelligence import DocumentIntelligenceClient\n",
    "from azure.ai.documentintelligence.models import DocumentContentFormat\n",
    "from langchain.text_splitter import RecursiveCharacterTextSplitter\n",
    "\n",
    "load_dotenv(\".env\")"
   ]
  },
  {
   "cell_type": "code",
   "execution_count": 2,
   "id": "04173460",
   "metadata": {},
   "outputs": [],
   "source": [
    "endpoint = os.getenv(\"FR_ENDPOINT\")\n",
    "key = os.getenv(\"FR_KEY\")\n",
    "\n",
    "# Instantiate DocumentAnalysisClient\n",
    "document_analysis_client = DocumentIntelligenceClient(\n",
    "    endpoint=endpoint, credential=AzureKeyCredential(key)\n",
    ")"
   ]
  },
  {
   "cell_type": "markdown",
   "id": "1c9d093e",
   "metadata": {},
   "source": [
    "<h3>Document Intelligence - Text Extraction by Layout Model\n",
    "</h3>"
   ]
  },
  {
   "cell_type": "markdown",
   "id": "6fe62824",
   "metadata": {},
   "source": [
    "\n",
    "├── data  \n",
    "│&emsp; &emsp; ├── text  \n",
    "│&emsp; &emsp; └── training_data  \n",
    "this script"
   ]
  },
  {
   "attachments": {},
   "cell_type": "markdown",
   "id": "5067951c",
   "metadata": {},
   "source": [
    "<h5>Document Intelligence - Layout Model によるテキストの抽出\n",
    "</h5>"
   ]
  },
  {
   "cell_type": "code",
   "execution_count": 3,
   "id": "c2c75dfe",
   "metadata": {},
   "outputs": [],
   "source": [
    "pdf_dir = Path('./data')\n",
    "text_dir = Path('./text')\n",
    "text_path = Path(os.path.join(pdf_dir, text_dir))\n",
    "os.makedirs(text_path, exist_ok=True)\n",
    "\n",
    "for pdf in next(os.walk(pdf_dir))[2]:\n",
    "\n",
    "    with open(os.path.join(pdf_dir, pdf), \"rb\") as f:        \n",
    "        poller = document_analysis_client.begin_analyze_document(\"prebuilt-layout\", body=f, content_type=\"application/octet-stream\")\n",
    "        result = poller.result()\n",
    "        text = result.content.replace(\":unselected:\", \"\").replace(\":selected:\", \"\")      \n",
    "\n",
    "        basename = os.path.splitext(os.path.basename(pdf))[0]\n",
    "        filename = basename + \".txt\"\n",
    "        outputfilepath = os.path.join(text_path, filename)\n",
    "        \n",
    "        #print(i, len(enc.encode(chunkedtext)), outputfilepath)\n",
    "        with open(outputfilepath, 'w', encoding='UTF-8') as fo:\n",
    "            fo.write(text)\n",
    "\n",
    "\n"
   ]
  }
 ],
 "metadata": {
  "kernelspec": {
   "display_name": "py12",
   "language": "python",
   "name": "python3"
  },
  "language_info": {
   "codemirror_mode": {
    "name": "ipython",
    "version": 3
   },
   "file_extension": ".py",
   "mimetype": "text/x-python",
   "name": "python",
   "nbconvert_exporter": "python",
   "pygments_lexer": "ipython3",
   "version": "3.12.9"
  }
 },
 "nbformat": 4,
 "nbformat_minor": 5
}
